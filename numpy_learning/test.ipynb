{
 "cells": [
  {
   "cell_type": "code",
   "execution_count": 26,
   "metadata": {},
   "outputs": [
    {
     "data": {
      "text/plain": "{a: -6, b: 2}"
     },
     "execution_count": 26,
     "metadata": {},
     "output_type": "execute_result"
    }
   ],
   "source": [
    "from sympy import Matrix,init_printing,symarray,solve,S,solve_linear_system,solve_linear_system_LU\n",
    "from sympy.abc import a,b,c,d\n",
    "# 使用latex显示\n",
    "# init_printing(use_latex=True)\n",
    "# 定义变量\n",
    "x1,x2,x3,x4=S('x1,x2,x3,x4')\n",
    "# 定义矩阵\n",
    "aa=Matrix(((1,-1,-2,-1,0),(2,1,1,1,0),(1,1,0,-3,0),(0,1,-1,-7,0)))\n",
    "system = Matrix(( (1, 4, 2), (-2, 1, 14)))\n",
    "solve_linear_system(aa,a,b,c,d)\n",
    "solve_linear_system(system,a,b)"
   ]
  },
  {
   "cell_type": "code",
   "execution_count": 10,
   "metadata": {
    "pycharm": {
     "name": "#%%\n"
    }
   },
   "outputs": [
    {
     "name": "stdout",
     "output_type": "stream",
     "text": [
      "dsd\n"
     ]
    }
   ],
   "source": [
    "print(\"dsd\")"
   ]
  },
  {
   "cell_type": "code",
   "execution_count": null,
   "metadata": {},
   "outputs": [],
   "source": []
  }
 ],
 "metadata": {
  "kernelspec": {
   "display_name": "Python 3 (ipykernel)",
   "language": "python",
   "name": "python3"
  },
  "language_info": {
   "codemirror_mode": {
    "name": "ipython",
    "version": 3
   },
   "file_extension": ".py",
   "mimetype": "text/x-python",
   "name": "python",
   "nbconvert_exporter": "python",
   "pygments_lexer": "ipython3",
   "version": "3.9.5"
  }
 },
 "nbformat": 4,
 "nbformat_minor": 1
}