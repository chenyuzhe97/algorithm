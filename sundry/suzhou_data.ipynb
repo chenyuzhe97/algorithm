{
 "cells": [
  {
   "cell_type": "code",
   "execution_count": null,
   "outputs": [],
   "source": [
    "import pandas as pd\n"
   ],
   "metadata": {
    "collapsed": false,
    "pycharm": {
     "name": "#%%\n"
    }
   }
  },
  {
   "cell_type": "code",
   "execution_count": null,
   "metadata": {
    "collapsed": true,
    "pycharm": {
     "name": "#%%\n"
    }
   },
   "outputs": [],
   "source": [
    "# df= pd.read_csv(r'D:\\Coding\\Python\\Algorithm\\data\\苏州数据\\合并后.csv')\n",
    "# 统计缺失率\n",
    "# statistic=df.isnull().sum(axis=0)/df.shape[0]\n",
    "# statistic.to_csv(r'D:\\Coding\\Python\\Algorithm\\data\\苏州数据\\缺失率.csv')\n",
    "# 保存便于处理的文件\n",
    "# df=df[['病案号','验光时间']]\n",
    "# df.to_csv(r'D:\\Coding\\Python\\Algorithm\\data\\苏州数据\\病案号验光时间.csv',index=False)\n",
    "\n",
    "df = pd.read_csv(r'D:\\Coding\\Python\\Algorithm\\data\\苏州数据\\病案号验光时间.csv')\n",
    "df['验光时间'] = pd.to_datetime(df['验光时间'])\n",
    "group = df.groupby('病案号')\n",
    "count = group.count()\n",
    "count.rename(columns={'验光时间': '次数'}, inplace=True)\n",
    "interval = group.max() - group.min()\n",
    "interval.rename(columns={'验光时间': '最大间隔_天'}, inplace=True)\n",
    "interval['最大间隔_天'] = interval['最大间隔_天'].apply(lambda x: x.days)\n",
    "new_df = pd.concat([count, interval], axis=1)\n",
    "new_df['最大间隔_月'] = new_df['最大间隔_天'] // 30\n",
    "new_df['平均间隔_天'] = new_df['最大间隔_天'] / (new_df['次数'] - 1)\n",
    "new_df['平均间隔_月'] = new_df['最大间隔_月'] / (new_df['次数'] - 1)\n",
    "new_df.to_csv(r'D:\\Coding\\Python\\Algorithm\\data\\苏州数据\\病案号验光时间统计.csv')\n"
   ]
  },
  {
   "cell_type": "code",
   "execution_count": null,
   "outputs": [],
   "source": [
    "# 处方被多少人用过\n",
    "chu_fang_df = pd.read_excel(r'D:\\Coding\\Python\\Algorithm\\data\\苏州数据\\处方.xlsx', engine='openpyxl')\n",
    "chu_fang_df = chu_fang_df[['病案号', '处方']].drop_duplicates()\n",
    "count = chu_fang_df.groupby('处方').count()\n",
    "count.rename(columns={'病案号': '使用人数'}, inplace=True)\n",
    "count.to_csv(r'D:\\Coding\\Python\\Algorithm\\data\\苏州数据\\处方使用人数统计.csv')"
   ],
   "metadata": {
    "collapsed": false,
    "pycharm": {
     "name": "#%%\n"
    }
   }
  },
  {
   "cell_type": "code",
   "execution_count": null,
   "outputs": [],
   "source": [
    "# 使用过有效和无效处方的人\n",
    "chu_fang_df = pd.read_excel(r'D:\\Coding\\Python\\Algorithm\\data\\苏州数据\\处方.xlsx', engine='openpyxl')\n",
    "chu_fang_useless = [\n",
    "    '七叶洋地黄双苷滴眼液', '复方托吡卡胺滴眼液', '托吡卡胺滴眼液',\n",
    "    '甲钴胺片', '阿托品眼用凝胶', '夏天无滴眼液', '硫酸阿托品眼用凝胶',\n",
    "    '甲钴胺针', '甲钴胺注射液']\n",
    "chu_fang_useful = [\n",
    "    '阿托品滴眼液', '阿托品眼膏', '复方消旋山莨菪碱滴眼液', '消旋山莨菪碱滴眼液', '硫酸阿托品注射液',\n",
    "    '阿托品针', '硫酸阿托品滴眼液0.01%', '盐酸消旋山莨菪碱注射液', '山莨菪碱针', '盐酸山莨菪碱注射液']\n",
    "chu_fang_df = chu_fang_df[['病案号', '处方']]\n",
    "chu_fang_useful_df = chu_fang_df[chu_fang_df['处方'].isin(chu_fang_useful)]\n",
    "chu_fang_useless_df = chu_fang_df[chu_fang_df['处方'].isin(chu_fang_useless)]\n",
    "chu_fang_useful_df.to_csv(r'D:\\Coding\\Python\\Algorithm\\data\\苏州数据\\处方_useful.csv', index=False)\n",
    "chu_fang_useless_df.to_csv(r'D:\\Coding\\Python\\Algorithm\\data\\苏州数据\\处方_useless.csv', index=False)"
   ],
   "metadata": {
    "collapsed": false,
    "pycharm": {
     "name": "#%%\n"
    }
   }
  },
  {
   "cell_type": "code",
   "execution_count": null,
   "outputs": [],
   "source": [
    "# 合并大表中有效和无效的人\n",
    "he_bing_df = pd.read_csv(r'D:\\Coding\\Python\\Algorithm\\data\\苏州数据\\合并后.csv')\n",
    "he_bing_useful_df = he_bing_df[he_bing_df['病案号'].isin(chu_fang_useful_df['病案号'])]\n",
    "he_bing_not_useful_df = he_bing_df[~he_bing_df['病案号'].isin(chu_fang_useful_df['病案号'])]\n",
    "he_bing_useless_df = he_bing_df[he_bing_df['病案号'].isin(chu_fang_useless_df['病案号'])]\n",
    "he_bing_useful_df.to_csv(r'D:\\Coding\\Python\\Algorithm\\data\\苏州数据\\合并后_useful.csv', index=False)\n",
    "he_bing_not_useful_df.to_csv(r'D:\\Coding\\Python\\Algorithm\\data\\苏州数据\\合并后_not_useful.csv', index=False)\n",
    "he_bing_useless_df.to_csv(r'D:\\Coding\\Python\\Algorithm\\data\\苏州数据\\合并后_useless.csv', index=False)\n"
   ],
   "metadata": {
    "collapsed": false,
    "pycharm": {
     "name": "#%%\n"
    }
   }
  },
  {
   "cell_type": "code",
   "execution_count": null,
   "outputs": [],
   "source": [
    "# 月进展率\n",
    "def month_rate_of_progress(x: pd.DataFrame):\n",
    "    diff = x.sort_values(by='随访时间').diff(periods=1, axis=0)\n",
    "    diff['随访时间'] = diff['随访时间'].apply(lambda x: x.days)\n",
    "    new_df = pd.DataFrame(columns=['月进展率'])\n",
    "    new_df['月进展率'] = diff['SE'] / (diff['随访时间'] // 30)\n",
    "    return new_df\n",
    "\n",
    "\n",
    "# 先去掉没有用的数据\n",
    "# df = pd.read_excel(r'D:\\Coding\\Python\\Algorithm\\data\\age_result.xlsx', sheet_name='Sheet1', engine='openpyxl')\n",
    "# df=df[['姓名', '出生年月', '随访时间', '主觉验光SE（左）','主觉验光SE（右）']]\n",
    "# df.to_excel(r'D:\\Coding\\Python\\Algorithm\\data\\data.xlsx',engine='openpyxl',index=False)\n",
    "# 重新读取\n",
    "df = pd.read_excel(r'D:\\Coding\\Python\\Algorithm\\data\\data.xlsx', sheet_name='Sheet1', engine='openpyxl')\n",
    "\n",
    "df_left = df[['姓名', '出生年月', '随访时间', '主觉验光SE（左）']].dropna().rename(columns={'主觉验光SE（左）': 'SE'})\n",
    "df_left = df_left.groupby(['姓名', '出生年月']).filter(lambda x: x['SE'].count() > 1)\n",
    "df_left = df_left.groupby(['姓名', '出生年月']).apply(month_rate_of_progress)\n",
    "df_left.to_excel(r'D:\\Coding\\Python\\Algorithm\\data\\left.xlsx', engine='openpyxl')\n",
    "\n",
    "df_right = df[['姓名', '出生年月', '随访时间', '主觉验光SE（右）']].dropna().rename(columns={'主觉验光SE（右）': 'SE'})\n",
    "df_right = df_right.groupby(['姓名', '出生年月']).filter(lambda x: x['SE'].count() > 1)\n",
    "df_right = df_right.groupby(['姓名', '出生年月']).apply(month_rate_of_progress)\n",
    "df_right.to_excel(r'D:\\Coding\\Python\\Algorithm\\data\\right.xlsx', engine='openpyxl')"
   ],
   "metadata": {
    "collapsed": false,
    "pycharm": {
     "name": "#%%\n"
    }
   }
  }
 ],
 "metadata": {
  "kernelspec": {
   "display_name": "Python 3",
   "language": "python",
   "name": "python3"
  },
  "language_info": {
   "codemirror_mode": {
    "name": "ipython",
    "version": 2
   },
   "file_extension": ".py",
   "mimetype": "text/x-python",
   "name": "python",
   "nbconvert_exporter": "python",
   "pygments_lexer": "ipython2",
   "version": "2.7.6"
  }
 },
 "nbformat": 4,
 "nbformat_minor": 0
}