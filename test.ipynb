{
 "cells": [
  {
   "cell_type": "code",
   "execution_count": 1,
   "outputs": [],
   "source": [
    "# -*- encoding: utf-8 -*-\n",
    "\"\"\"\n",
    "@File Name      :   test.py\n",
    "@Create Time    :   2021/7/24 9:56\n",
    "@Description    :   用于随时测试自己的想法\n",
    "@Version        :\n",
    "@License        :   MIT\n",
    "@Author         :   diklios\n",
    "@Contact Email  :   diklios5768@gmail.com\n",
    "@Github         :   https://github.com/diklios5768\n",
    "@Blog           :\n",
    "@Motto          :   All our science, measured against reality, is primitive and childlike - and yet it is the most precious thing we have.\n",
    "\"\"\"\n",
    "__auth__ = 'diklios'\n",
    "# 请测试完毕后删除所有代码"
   ],
   "metadata": {
    "collapsed": false,
    "pycharm": {
     "name": "#%%\n"
    }
   }
  },
  {
   "cell_type": "code",
   "execution_count": null,
   "outputs": [],
   "source": [],
   "metadata": {
    "collapsed": false,
    "pycharm": {
     "name": "#%%\n",
     "is_executing": true
    }
   }
  }
 ],
 "metadata": {
  "kernelspec": {
   "display_name": "Python 3",
   "language": "python",
   "name": "python3"
  },
  "language_info": {
   "codemirror_mode": {
    "name": "ipython",
    "version": 2
   },
   "file_extension": ".py",
   "mimetype": "text/x-python",
   "name": "python",
   "nbconvert_exporter": "python",
   "pygments_lexer": "ipython2",
   "version": "2.7.6"
  }
 },
 "nbformat": 4,
 "nbformat_minor": 0
}