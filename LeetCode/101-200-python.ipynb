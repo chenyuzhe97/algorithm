{
 "cells": [
  {
   "cell_type": "code",
   "execution_count": null,
   "metadata": {
    "collapsed": true,
    "pycharm": {
     "name": "#%%\n"
    }
   },
   "outputs": [],
   "source": [
    "# 118.杨辉三角\n",
    "# 给定一个非负整数 numRows，生成「杨辉三角」的前 numRows行\n",
    "# 在「杨辉三角」中，每个数是它左上方和右上方的数的和\n",
    "class Solution:\n",
    "    def generate(numRows):\n",
    "        triangle = [[1 for num in range(i + 1)] for i in range(numRows)]\n",
    "        for i in range(numRows):\n",
    "            for j in range(1, i):\n",
    "                if j < i:\n",
    "                    triangle[i][j] = triangle[i - 1][j - 1] + triangle[i - 1][j]\n",
    "        return triangle\n",
    "\n",
    "        # triangle = []\n",
    "        # for i in range(numRows):\n",
    "        #     current_layer = [1 for num in range(i + 1)]\n",
    "        #     if i >= 2:\n",
    "        #         pre_layer = triangle[i - 1]\n",
    "        #         for j in range(1, i):\n",
    "        #             current_layer[j] = pre_layer[j - 1] + pre_layer[j]\n",
    "        #     triangle.append(current_layer)\n",
    "        # return triangle"
   ]
  }
 ],
 "metadata": {
  "kernelspec": {
   "display_name": "Python 3",
   "language": "python",
   "name": "python3"
  },
  "language_info": {
   "codemirror_mode": {
    "name": "ipython",
    "version": 2
   },
   "file_extension": ".py",
   "mimetype": "text/x-python",
   "name": "python",
   "nbconvert_exporter": "python",
   "pygments_lexer": "ipython2",
   "version": "2.7.6"
  }
 },
 "nbformat": 4,
 "nbformat_minor": 0
}