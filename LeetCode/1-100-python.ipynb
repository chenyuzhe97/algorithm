{
 "cells": [
  {
   "cell_type": "code",
   "execution_count": null,
   "metadata": {
    "pycharm": {
     "name": "#%%\n"
    }
   },
   "outputs": [],
   "source": [
    "# 1.两数之和\n",
    "# 给定一个整数数组 nums 和一个整数目标值 target，请你在该数组中找出和为目标值 target 的那两个整数，并返回它们的数组下标。\n",
    "# 你可以假设每种输入只会对应一个答案。但是，数组中同一个元素在答案里不能重复出现。\n",
    "# 你可以按任意顺序返回答案。\n",
    "\n",
    "#条件\n",
    "# 2 <= nums.length <= 10^4\n",
    "# -10^9 <= nums[i] <= 10^9\n",
    "# -10^9 <= target <= 10^9\n",
    "# 只会存在一个有效答案\n",
    "\n",
    "# 暴利迭代法\n",
    "class Solution:\n",
    "    def twoSum(self, nums: list[int], target: int) -> list[int]:\n",
    "        for i in range(len(nums)):\n",
    "            for j in range(i+1, len(nums)):\n",
    "                if nums[i] + nums[j] == target:\n",
    "                    return [i, j]\n",
    "\n",
    "# 简化写法\n",
    "class Solution:\n",
    "    def twoSum(self, nums: list[int], target: int) -> list[int]:\n",
    "        for i in range(len(nums)):\n",
    "            if target - nums[i] in nums[i+1:]:\n",
    "                return [i, nums[i+1:].index(target - nums[i]) + i + 1]\n",
    "\n",
    "# 上面的方法使用字典，空间换时间\n",
    "class Solution:\n",
    "    def twoSum(self, nums: list[int], target: int) -> list[int]:\n",
    "        hashmap=dict()\n",
    "        k=len(nums)\n",
    "        for i in range(0,k):\n",
    "            temp=target-nums[i]\n",
    "            if temp in hashmap:\n",
    "                return [hashmap[temp],i]\n",
    "            hashmap[nums[i]]=i"
   ]
  },
  {
   "cell_type": "code",
   "execution_count": null,
   "metadata": {
    "pycharm": {
     "name": "#%%\n"
    }
   },
   "outputs": [],
   "source": [
    "# 2.两数相加\n",
    "# 给你两个非空的链表，表示两个非负的整数。它们每位数字都是按照逆序的方式存储的，并且每个节点只能存储一位数字。\n",
    "# 请你将两个数相加，并以相同形式返回一个表示和的链表。\n",
    "# 你可以假设除了数字 0 之外，这两个数都不会以 0 开头。\n",
    "\n",
    "# 条件\n",
    "# 每个链表中的节点数在范围 [1, 100] 内\n",
    "# 0 <= Node.val <= 9\n",
    "# 题目数据保证列表表示的数字不含前导零\n",
    "\n",
    "class ListNode:\n",
    "    def __init__(self, val=0, next=None):\n",
    "        self.val = val\n",
    "        self.next = next\n",
    "class Solution:\n",
    "    def addTwoNumbers(self, l1: ListNode, l2: ListNode) -> ListNode:\n",
    "        # 初始化\n",
    "        head = ListNode(0)\n",
    "        cur = head\n",
    "        carry = 0\n",
    "        while l1 or l2 or carry:\n",
    "            if l1:\n",
    "                carry += l1.val\n",
    "                l1 = l1.next\n",
    "            if l2:\n",
    "                carry += l2.val\n",
    "                l2 = l2.next\n",
    "            cur.next = ListNode(carry % 10)\n",
    "            cur = cur.next\n",
    "            carry //= 10\n",
    "        return head.next"
   ]
  },
  {
   "cell_type": "code",
   "execution_count": null,
   "metadata": {
    "pycharm": {
     "name": "#%%\n"
    }
   },
   "outputs": [],
   "source": [
    "# 3.无重复字符的最长子串\n",
    "# 给定一个字符串 s ，请你找出其中不含有重复字符的最长子串的长度。\n",
    "\n",
    "class Solution:\n",
    "    def lengthOfLongestSubstring(self, s: str) -> int:\n",
    "        max_len = 0\n",
    "        start = 0\n",
    "        end = 0\n",
    "        length= len(s)\n",
    "        # 循环\n",
    "        while end < length:\n",
    "            if s[end] in s[start:end]:\n",
    "                max_len = max(max_len, end - start)\n",
    "                start = s[start:end].index(s[end]) + start + 1\n",
    "            end += 1\n",
    "        return max(max_len, end - start)"
   ]
  },
  {
   "cell_type": "code",
   "execution_count": null,
   "metadata": {
    "pycharm": {
     "name": "#%%\n"
    }
   },
   "outputs": [],
   "source": [
    "# 4.寻找两个正序数组的中位数\n",
    "# 给定两个大小分别为 m 和 n 的正序（从小到大）数组nums1 和nums2。请你找出并返回这两个正序数组的中位数 。\n",
    "# 算法的时间复杂度应该为 O(log (m+n)) 。\n",
    "\n",
    "# 提示：\n",
    "# nums1.length == m\n",
    "# nums2.length == n\n",
    "# 0 <= m <= 1000\n",
    "# 0 <= n <= 1000\n",
    "# 1 <= m + n <= 2000\n",
    "# -106 <= nums1[i], nums2[i] <= 106\n",
    "\n",
    "class Solution:\n",
    "    def findMedianSortedArrays(self, nums1: list[int], nums2: list[int]) -> float:\n",
    "        nums3 = nums1 + nums2\n",
    "        nums3.sort()\n",
    "        if len(nums3) % 2 == 0:\n",
    "            return (nums3[len(nums3) // 2] + nums3[len(nums3) // 2 - 1]) / 2\n",
    "        else:\n",
    "            return nums3[len(nums3) // 2]"
   ]
  }
 ],
 "metadata": {
  "language_info": {
   "name": "python"
  },
  "orig_nbformat": 4
 },
 "nbformat": 4,
 "nbformat_minor": 2
}